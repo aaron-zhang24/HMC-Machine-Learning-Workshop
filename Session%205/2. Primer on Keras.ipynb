{
 "cells": [
  {
   "cell_type": "markdown",
   "metadata": {},
   "source": [
    "## Primer on Keras\n",
    "\n",
    "In this notebook, we will learn how to implement a neural network using Keras API with TensorFlow backend. Keras provides a user-friendly interface to use TensorFlow and build the models quickly. Both Keras and TensorFlow are robust and powerful python libraries commonly used for deep learning.\n",
    "\n",
    "There are two ways to build models in Keras, sequential and functional. \n",
    "* The sequential API allows us to create layer-by-layer models with multiple inputs and outputs, but is limited in its flexibility. \n",
    "* The functional API allows us to create models where we can connect any layer to any other layer, rather than only the layers immediately adjacent to it. It is useful for more advanced architectures where sequential API no longer suffices.\n",
    "\n",
    "In this primer we will be focusing on the sequential API for ease and clarity.\n",
    "\n",
    "Let us first import the IMDb reviews data into a pandas dataframe `df`."
   ]
  },
  {
   "cell_type": "code",
   "execution_count": null,
   "metadata": {},
   "outputs": [],
   "source": [
    "import pandas as pd\n",
    "import numpy as np\n",
    "\n",
    "import warnings \n",
    "warnings.filterwarnings(\"ignore\")\n",
    "\n",
    "\n",
    "# from google.colab import drive\n",
    "# drive.mount(\"/content/gdrive\")\n"
   ]
  },
  {
   "cell_type": "code",
   "execution_count": 1,
   "metadata": {},
   "outputs": [
    {
     "data": {
      "text/html": [
       "<div>\n",
       "<style>\n",
       "    .dataframe thead tr:only-child th {\n",
       "        text-align: right;\n",
       "    }\n",
       "\n",
       "    .dataframe thead th {\n",
       "        text-align: left;\n",
       "    }\n",
       "\n",
       "    .dataframe tbody tr th {\n",
       "        vertical-align: top;\n",
       "    }\n",
       "</style>\n",
       "<table border=\"1\" class=\"dataframe\">\n",
       "  <thead>\n",
       "    <tr style=\"text-align: right;\">\n",
       "      <th></th>\n",
       "      <th>review</th>\n",
       "      <th>sentiment</th>\n",
       "    </tr>\n",
       "  </thead>\n",
       "  <tbody>\n",
       "    <tr>\n",
       "      <th>0</th>\n",
       "      <td>One of the other reviewers has mentioned that ...</td>\n",
       "      <td>positive</td>\n",
       "    </tr>\n",
       "    <tr>\n",
       "      <th>1</th>\n",
       "      <td>A wonderful little production. &lt;br /&gt;&lt;br /&gt;The...</td>\n",
       "      <td>positive</td>\n",
       "    </tr>\n",
       "    <tr>\n",
       "      <th>2</th>\n",
       "      <td>I thought this was a wonderful way to spend ti...</td>\n",
       "      <td>positive</td>\n",
       "    </tr>\n",
       "    <tr>\n",
       "      <th>3</th>\n",
       "      <td>Basically there's a family where a little boy ...</td>\n",
       "      <td>negative</td>\n",
       "    </tr>\n",
       "    <tr>\n",
       "      <th>4</th>\n",
       "      <td>Petter Mattei's \"Love in the Time of Money\" is...</td>\n",
       "      <td>positive</td>\n",
       "    </tr>\n",
       "  </tbody>\n",
       "</table>\n",
       "</div>"
      ],
      "text/plain": [
       "                                              review sentiment\n",
       "0  One of the other reviewers has mentioned that ...  positive\n",
       "1  A wonderful little production. <br /><br />The...  positive\n",
       "2  I thought this was a wonderful way to spend ti...  positive\n",
       "3  Basically there's a family where a little boy ...  negative\n",
       "4  Petter Mattei's \"Love in the Time of Money\" is...  positive"
      ]
     },
     "execution_count": 1,
     "metadata": {},
     "output_type": "execute_result"
    }
   ],
   "source": [
    "df = pd.read_csv(\"IMDB Dataset.csv\")\n",
    "df.head()"
   ]
  },
  {
   "cell_type": "markdown",
   "metadata": {},
   "source": [
    "We will train a neural network to classify the sentiment's reviews into positive and negative."
   ]
  },
  {
   "cell_type": "markdown",
   "metadata": {},
   "source": [
    "Let us check the number of rows and columns in the dataset."
   ]
  },
  {
   "cell_type": "code",
   "execution_count": 2,
   "metadata": {},
   "outputs": [
    {
     "data": {
      "text/plain": [
       "(50000, 2)"
      ]
     },
     "execution_count": 2,
     "metadata": {},
     "output_type": "execute_result"
    }
   ],
   "source": [
    "df.shape"
   ]
  },
  {
   "cell_type": "markdown",
   "metadata": {},
   "source": [
    "Let us check the number of positive and negative reviews in our dataset."
   ]
  },
  {
   "cell_type": "code",
   "execution_count": 3,
   "metadata": {},
   "outputs": [
    {
     "data": {
      "text/plain": [
       "positive    25000\n",
       "negative    25000\n",
       "Name: sentiment, dtype: int64"
      ]
     },
     "execution_count": 3,
     "metadata": {},
     "output_type": "execute_result"
    }
   ],
   "source": [
    "df['sentiment'].value_counts()"
   ]
  },
  {
   "cell_type": "markdown",
   "metadata": {},
   "source": [
    "There are equal number of positive and negative reviews."
   ]
  },
  {
   "cell_type": "markdown",
   "metadata": {},
   "source": [
    "Now we want to split the data into training and testing sets. This is for model cross-validation, that is once our network is trained using training data, we want to measure its performance on the unseen validation data."
   ]
  },
  {
   "cell_type": "code",
   "execution_count": 4,
   "metadata": {
    "collapsed": true
   },
   "outputs": [],
   "source": [
    "from sklearn.model_selection import train_test_split\n",
    "# default is 75% / 25% train-test split\n",
    "X = df['review'] \n",
    "y = df['sentiment'].replace({'positive': 1, 'negative': 0})\n",
    "text_train, text_valid, y_train, y_valid = train_test_split(X, y, random_state=0)"
   ]
  },
  {
   "cell_type": "markdown",
   "metadata": {},
   "source": [
    "Let us use the TF-IDF vectorizer along with `clean_text` function above to vectorize the text data."
   ]
  },
  {
   "cell_type": "code",
   "execution_count": 5,
   "metadata": {
    "collapsed": true
   },
   "outputs": [],
   "source": [
    "from sklearn.feature_extraction.text import TfidfVectorizer\n",
    "from sklearn.metrics import accuracy_score\n",
    "\n",
    "\n",
    "# Vectorization\n",
    "vectorizer = TfidfVectorizer(stop_words=\"english\",\n",
    "                             max_features=15000)\n",
    "\n",
    "X_train_vectorized = vectorizer.fit_transform(text_train)    \n",
    "X_valid_vectorized = vectorizer.transform(text_valid)"
   ]
  },
  {
   "cell_type": "markdown",
   "metadata": {},
   "source": [
    "We convert the CSR matrices to numpy arrays so that they can be feed into Keras model."
   ]
  },
  {
   "cell_type": "code",
   "execution_count": 6,
   "metadata": {
    "collapsed": true
   },
   "outputs": [],
   "source": [
    "X_train = X_train_vectorized.toarray()\n",
    "X_valid = X_valid_vectorized.toarray()"
   ]
  },
  {
   "cell_type": "markdown",
   "metadata": {},
   "source": [
    "For the purpose of reproducibility, we seed first."
   ]
  },
  {
   "cell_type": "code",
   "execution_count": 7,
   "metadata": {
    "collapsed": true
   },
   "outputs": [],
   "source": [
    "from numpy.random import seed\n",
    "seed(10)\n",
    "\n",
    "import tensorflow as tf"
   ]
  },
  {
   "cell_type": "markdown",
   "metadata": {},
   "source": [
    "### Constructing a simple network"
   ]
  },
  {
   "cell_type": "markdown",
   "metadata": {},
   "source": [
    "We import the relevant functions from [Keras](https://keras.io/) that we plan to use in our network."
   ]
  },
  {
   "cell_type": "code",
   "execution_count": 8,
   "metadata": {},
   "outputs": [
    {
     "name": "stderr",
     "output_type": "stream",
     "text": [
      "Using TensorFlow backend.\n"
     ]
    }
   ],
   "source": [
    "from keras.models import Sequential\n",
    "from keras.layers import Dense, Dropout\n",
    "from keras.initializers import he_normal\n",
    "from keras.callbacks import ModelCheckpoint, EarlyStopping\n",
    "\n",
    "\n",
    "input_dim = X_train.shape[1] # size of input variables"
   ]
  },
  {
   "cell_type": "markdown",
   "metadata": {},
   "source": [
    "Let us first look at the shapes of the training and validation sets."
   ]
  },
  {
   "cell_type": "code",
   "execution_count": 9,
   "metadata": {},
   "outputs": [
    {
     "name": "stdout",
     "output_type": "stream",
     "text": [
      "(37500, 15000) (12500, 15000) (37500,) (12500,)\n"
     ]
    }
   ],
   "source": [
    "print(X_train.shape, X_valid.shape, y_train.shape, y_valid.shape)"
   ]
  },
  {
   "cell_type": "markdown",
   "metadata": {},
   "source": [
    "We begin by initializing a Sequential model using [Keras Sequential API](https://keras.io/getting-started/sequential-model-guide/)."
   ]
  },
  {
   "cell_type": "code",
   "execution_count": 10,
   "metadata": {
    "collapsed": true
   },
   "outputs": [],
   "source": [
    "model = Sequential()"
   ]
  },
  {
   "cell_type": "markdown",
   "metadata": {},
   "source": [
    "Notes:\n",
    "* We add layers to the model via the [`.add()`](https://keras.io/getting-started/sequential-model-guide/) method. \n",
    "* Keras API allows us to define various kinds of layers that are useful for more involved architectures, but for the Multi-layer Perceptrons, we use [`Dense`](https://keras.io/layers/core/) layers, which simply means each node in one layer is connected to every node in the next.\n",
    "* The very first layer added to the model needs to be given the input shape (`input_shape`) or input dimension (`input_dim`).\n",
    "* The dropout regularization can be added to a layer by using `model.add(Dropout(0.5))` right after it\n",
    "* The other properties we will specify for the Dense layers are\n",
    "    * units: the number of nodes in a particular layer\n",
    "    * activation: we will use ReLU and sigmoid activation functions for hidden and output layer respectively\n",
    "    * kernel_initializer: for initializing weights and biases\n",
    "    \n",
    "Let us add the first fully-connected (dense) layer with the sigmoid activation using [`.add()`](https://keras.io/getting-started/sequential-model-guide/) method with [`Dense`](https://keras.io/layers/core/) layer. This is the hidden layer with 64 nodes (or units)."
   ]
  },
  {
   "cell_type": "code",
   "execution_count": 11,
   "metadata": {
    "collapsed": true
   },
   "outputs": [],
   "source": [
    "model.add(Dense(units=64, input_dim=input_dim, activation=\"relu\", kernel_initializer=he_normal())) # Hidden layer\n",
    "model.add(Dropout(0.5)) # Adding dropout regularization to the hidden layer with dropout prob=0.5"
   ]
  },
  {
   "cell_type": "markdown",
   "metadata": {},
   "source": [
    "Now, we add the output layer. \n",
    "* No need to specify the input size, Keras will automatically take it to be 64 - same as the output size of the previous layer. \n",
    "* We specify the the number of units for this layer to be 1 - to give use the prediction of whether the review is positive or negative."
   ]
  },
  {
   "cell_type": "code",
   "execution_count": 12,
   "metadata": {
    "collapsed": true
   },
   "outputs": [],
   "source": [
    "model.add(Dense(units=1, activation=\"sigmoid\")) # Output layer"
   ]
  },
  {
   "cell_type": "markdown",
   "metadata": {},
   "source": [
    "Let us check the structure of the network using the [`.summary()`](https://keras.io/models/about-keras-models/) function."
   ]
  },
  {
   "cell_type": "code",
   "execution_count": 13,
   "metadata": {},
   "outputs": [
    {
     "name": "stdout",
     "output_type": "stream",
     "text": [
      "_________________________________________________________________\n",
      "Layer (type)                 Output Shape              Param #   \n",
      "=================================================================\n",
      "dense_1 (Dense)              (None, 64)                960064    \n",
      "_________________________________________________________________\n",
      "dropout_1 (Dropout)          (None, 64)                0         \n",
      "_________________________________________________________________\n",
      "dense_2 (Dense)              (None, 1)                 65        \n",
      "=================================================================\n",
      "Total params: 960,129\n",
      "Trainable params: 960,129\n",
      "Non-trainable params: 0\n",
      "_________________________________________________________________\n"
     ]
    }
   ],
   "source": [
    "model.summary()"
   ]
  },
  {
   "cell_type": "markdown",
   "metadata": {},
   "source": [
    "This seems to give us the desired structure. Keep in mind that in practice we want to optimize the number of nodes per hidden layer and number of hidden layers, while in this example the layers were chosen for explanatory purposes.\n",
    "\n",
    "### Training the model \n",
    "\n",
    "Now that we have defined our network architecture, we need to compile it first using [`compile`](https://keras.io/models/model/) before running it. There are a few keywords that we need to pass:\n",
    "* `optimizer`: We will use the Adam method.\n",
    "* `loss`: This is nothing but the cost function. We want to build a model for binary classification and hence will use binary cross-entropy loss.\n",
    "* `metrics`: We will simply use the accuracy.\n"
   ]
  },
  {
   "cell_type": "code",
   "execution_count": 14,
   "metadata": {
    "collapsed": true
   },
   "outputs": [],
   "source": [
    "model.compile(optimizer='adam', loss=\"binary_crossentropy\", metrics=[\"accuracy\"])"
   ]
  },
  {
   "cell_type": "markdown",
   "metadata": {},
   "source": [
    "Finally, we train the model using 8 rounds (epochs) over the entire training set."
   ]
  },
  {
   "cell_type": "code",
   "execution_count": 15,
   "metadata": {
    "scrolled": true
   },
   "outputs": [
    {
     "name": "stdout",
     "output_type": "stream",
     "text": [
      "Train on 37500 samples, validate on 12500 samples\n",
      "Epoch 1/8\n",
      "37500/37500 [==============================] - 30s 800us/step - loss: 0.6394 - acc: 0.7818 - val_loss: 0.5697 - val_acc: 0.8521\n",
      "Epoch 2/8\n",
      "37500/37500 [==============================] - 26s 681us/step - loss: 0.4999 - acc: 0.8656 - val_loss: 0.4475 - val_acc: 0.8674\n",
      "Epoch 3/8\n",
      "37500/37500 [==============================] - 24s 636us/step - loss: 0.3898 - acc: 0.8837 - val_loss: 0.3666 - val_acc: 0.8761\n",
      "Epoch 4/8\n",
      "37500/37500 [==============================] - 23s 615us/step - loss: 0.3195 - acc: 0.8997 - val_loss: 0.3200 - val_acc: 0.8855\n",
      "Epoch 5/8\n",
      "37500/37500 [==============================] - 23s 604us/step - loss: 0.2721 - acc: 0.9123 - val_loss: 0.2928 - val_acc: 0.8888\n",
      "Epoch 6/8\n",
      "37500/37500 [==============================] - 23s 619us/step - loss: 0.2414 - acc: 0.9200 - val_loss: 0.2764 - val_acc: 0.8896\n",
      "Epoch 7/8\n",
      "37500/37500 [==============================] - 23s 622us/step - loss: 0.2190 - acc: 0.9263 - val_loss: 0.2665 - val_acc: 0.8913\n",
      "Epoch 8/8\n",
      "37500/37500 [==============================] - 23s 619us/step - loss: 0.2002 - acc: 0.9342 - val_loss: 0.2603 - val_acc: 0.8926\n"
     ]
    }
   ],
   "source": [
    "model_history = model.fit(X_train, y_train.values, \n",
    "                          epochs=8, batch_size=1024, \n",
    "                          validation_data=(X_valid, y_valid.values), verbose=1); "
   ]
  },
  {
   "cell_type": "markdown",
   "metadata": {},
   "source": [
    "We can plot the loss function values  for training and validation sets over the epochs using `model_history`."
   ]
  },
  {
   "cell_type": "code",
   "execution_count": 16,
   "metadata": {},
   "outputs": [
    {
     "data": {
      "image/png": "[encoded data removed]",
      "text/plain": [
       "<matplotlib.figure.Figure at 0x29bcbd898>"
      ]
     },
     "metadata": {},
     "output_type": "display_data"
    }
   ],
   "source": [
    "import matplotlib.pyplot as plt\n",
    "def plot_loss(model_history):\n",
    "    fig, ax = plt.subplots()\n",
    "    plt.plot(np.sqrt(model_history.history['loss']), 'r', label='train')\n",
    "    plt.plot(np.sqrt(model_history.history['val_loss']), 'b' ,label='val')\n",
    "    ax.set_xlabel(r'Epoch', fontsize=16)\n",
    "    ax.set_ylabel(r'Loss', fontsize=16)\n",
    "    plt.legend()\n",
    "    plt.title(\"Loss over the epochs\", fontsize=20)\n",
    "    fig.tight_layout()\n",
    "    plt.show()\n",
    "\n",
    "    \n",
    "plot_loss(model_history)"
   ]
  },
  {
   "cell_type": "markdown",
   "metadata": {},
   "source": [
    "We can also plot the accuracy values for training and validation sets over the epochs using `model_history`."
   ]
  },
  {
   "cell_type": "code",
   "execution_count": 17,
   "metadata": {},
   "outputs": [
    {
     "data": {
      "image/png": "[encoded data removed]",
      "text/plain": [
       "<matplotlib.figure.Figure at 0x29bcbd828>"
      ]
     },
     "metadata": {},
     "output_type": "display_data"
    }
   ],
   "source": [
    "def plot_accuracy(model_history):\n",
    "    fig, ax = plt.subplots()\n",
    "    plt.plot(np.sqrt(model_history.history['acc']), 'r', label='train')\n",
    "    plt.plot(np.sqrt(model_history.history['val_acc']), 'b' ,label='val')\n",
    "    ax.set_xlabel(r'Epoch', fontsize=16)\n",
    "    ax.set_ylabel(r'Accuracy', fontsize=16)\n",
    "    plt.legend()\n",
    "    plt.title(\"Accuracy over the epochs\", fontsize=20)\n",
    "    fig.tight_layout()\n",
    "    plt.show()\n",
    "plot_accuracy(model_history)"
   ]
  },
  {
   "cell_type": "markdown",
   "metadata": {},
   "source": [
    "Certain functions from `keras.callbacks` are particularly useful. We will use `keras.callbacks.EarlyStopping` to stop the training process early based on a loss function values for the validation set. Here, we use `mode='min'` as we are trying to minimize the validation loss."
   ]
  },
  {
   "cell_type": "code",
   "execution_count": 18,
   "metadata": {
    "collapsed": true
   },
   "outputs": [],
   "source": [
    "earlystopping = EarlyStopping(monitor='val_loss', mode='min', verbose=1)"
   ]
  },
  {
   "cell_type": "markdown",
   "metadata": {},
   "source": [
    "We can also save the weight for the model using `keras.callbacks.ModelCheckpoint` so that we can retrieve them and do not loose our work even if our kernel quit unexpectedly."
   ]
  },
  {
   "cell_type": "code",
   "execution_count": 19,
   "metadata": {
    "collapsed": true
   },
   "outputs": [],
   "source": [
    "filepath = 'IMDb_model.epoch{epoch:02d}-loss{val_loss:.2f}.hdf5'\n",
    "checkpoint = ModelCheckpoint(filepath=filepath, \n",
    "                             monitor='val_loss',\n",
    "                             verbose=1, \n",
    "                             save_best_only=True,\n",
    "                             mode='min')"
   ]
  },
  {
   "cell_type": "markdown",
   "metadata": {},
   "source": [
    "We can also use `keras.callbacks.Tensorboard` to plot the logs obtaining from the training process."
   ]
  },
  {
   "cell_type": "code",
   "execution_count": null,
   "metadata": {
    "collapsed": true
   },
   "outputs": [],
   "source": [
    "tensorboard_callback = TensorBoard(log_dir=\"./logs\")"
   ]
  },
  {
   "cell_type": "markdown",
   "metadata": {},
   "source": [
    "Let us use the `keras.callbacks` for training the network."
   ]
  },
  {
   "cell_type": "code",
   "execution_count": 20,
   "metadata": {},
   "outputs": [
    {
     "name": "stdout",
     "output_type": "stream",
     "text": [
      "Train on 37500 samples, validate on 12500 samples\n",
      "Epoch 1/10\n",
      "36864/37500 [============================>.] - ETA: 0s - loss: 0.1853 - acc: 0.9385Epoch 00001: val_loss improved from inf to 0.25756, saving model to IMDb_model.epoch01-loss0.26.hdf5\n",
      "37500/37500 [==============================] - 23s 619us/step - loss: 0.1853 - acc: 0.9385 - val_loss: 0.2576 - val_acc: 0.8918\n",
      "Epoch 2/10\n",
      "36864/37500 [============================>.] - ETA: 0s - loss: 0.1727 - acc: 0.9439Epoch 00002: val_loss improved from 0.25756 to 0.25583, saving model to IMDb_model.epoch02-loss0.26.hdf5\n",
      "37500/37500 [==============================] - 24s 634us/step - loss: 0.1727 - acc: 0.9439 - val_loss: 0.2558 - val_acc: 0.8934\n",
      "Epoch 3/10\n",
      "36864/37500 [============================>.] - ETA: 0s - loss: 0.1624 - acc: 0.9462Epoch 00003: val_loss did not improve\n",
      "37500/37500 [==============================] - 25s 665us/step - loss: 0.1623 - acc: 0.9462 - val_loss: 0.2560 - val_acc: 0.8918\n",
      "Epoch 00003: early stopping\n"
     ]
    }
   ],
   "source": [
    "callbacks = [checkpoint, earlystopping]\n",
    "model_history = model.fit(X_train, y_train.values, \n",
    "                          epochs=10, batch_size=1024, \n",
    "                          validation_data=(X_valid, y_valid.values), verbose=1,\n",
    "                          callbacks=callbacks)"
   ]
  },
  {
   "cell_type": "code",
   "execution_count": 21,
   "metadata": {},
   "outputs": [
    {
     "data": {
      "image/png": "[encoded data removed]",
      "text/plain": [
       "<matplotlib.figure.Figure at 0x11b189320>"
      ]
     },
     "metadata": {},
     "output_type": "display_data"
    }
   ],
   "source": [
    "plot_loss(model_history)"
   ]
  },
  {
   "cell_type": "code",
   "execution_count": 22,
   "metadata": {},
   "outputs": [
    {
     "data": {
      "image/png": "[encoded data removed]",
      "text/plain": [
       "<matplotlib.figure.Figure at 0x11b1739e8>"
      ]
     },
     "metadata": {},
     "output_type": "display_data"
    }
   ],
   "source": [
    "plot_accuracy(model_history)"
   ]
  },
  {
   "cell_type": "markdown",
   "metadata": {},
   "source": [
    "We can load a saved model as below:"
   ]
  },
  {
   "cell_type": "code",
   "execution_count": 23,
   "metadata": {
    "collapsed": true
   },
   "outputs": [],
   "source": [
    "from keras.models import load_model\n",
    "filepath = 'IMDb_model.epoch02-loss0.26.hdf5'\n",
    "saved_model = load_model(filepath)"
   ]
  },
  {
   "cell_type": "markdown",
   "metadata": {},
   "source": [
    "To view the Tensorboard plots, you need to follow the steps:\n",
    "* Navigate to the directory where your notebook is stored\n",
    "* Run `tensorboard --logdir=\"./logs\"` in the command prompt of your Terminal/Command Window\n",
    "* Extract the http address from the output of the above command\n",
    "* Open the http address in your web browser"
   ]
  },
  {
   "cell_type": "markdown",
   "metadata": {},
   "source": [
    "Let us use the network to predict the sentiment for a movie review."
   ]
  },
  {
   "cell_type": "code",
   "execution_count": 24,
   "metadata": {},
   "outputs": [
    {
     "data": {
      "text/plain": [
       "array([[0.6896285]], dtype=float32)"
      ]
     },
     "execution_count": 24,
     "metadata": {},
     "output_type": "execute_result"
    }
   ],
   "source": [
    "review1 = [\"\"\"It plays on our knowledge and our senses, and the sets are well done.\"\"\"]\n",
    "input_review1 = vectorizer.transform(review1).toarray()\n",
    "saved_model.predict(input_review1)"
   ]
  },
  {
   "cell_type": "markdown",
   "metadata": {},
   "source": [
    "The network has predicted the review to be positive with approx. $69$% probability. However, if we add a word \"terribly\" as shown below, which actually adds to the positive sentiment of the review, the network gets the prediction wrong. "
   ]
  },
  {
   "cell_type": "code",
   "execution_count": 25,
   "metadata": {},
   "outputs": [
    {
     "data": {
      "text/plain": [
       "array([[0.27836576]], dtype=float32)"
      ]
     },
     "execution_count": 25,
     "metadata": {},
     "output_type": "execute_result"
    }
   ],
   "source": [
    "review1 = [\"\"\"It plays on our knowledge and our senses, and the sets are terribly well done.\"\"\"]\n",
    "input_review1 = vectorizer.transform(review1).toarray()\n",
    "saved_model.predict(input_review1)"
   ]
  },
  {
   "cell_type": "markdown",
   "metadata": {},
   "source": [
    "It is now predicting the review to be negative with approx. $72$% probability. You can try using $n$-grams for the vectorizer and see if it helps."
   ]
  },
  {
   "cell_type": "code",
   "execution_count": null,
   "metadata": {
    "collapsed": true
   },
   "outputs": [],
   "source": []
  }
 ],
 "metadata": {
  "kernelspec": {
   "display_name": "Python 3 (ipykernel)",
   "language": "python",
   "name": "python3"
  },
  "language_info": {
   "codemirror_mode": {
    "name": "ipython",
    "version": 3
   },
   "file_extension": ".py",
   "mimetype": "text/x-python",
   "name": "python",
   "nbconvert_exporter": "python",
   "pygments_lexer": "ipython3",
   "version": "3.9.13"
  }
 },
 "nbformat": 4,
 "nbformat_minor": 2
}
