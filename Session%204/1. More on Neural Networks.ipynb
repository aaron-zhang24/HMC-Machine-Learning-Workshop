{
 "cells": [
  {
   "cell_type": "markdown",
   "metadata": {},
   "source": [
    "## A Hands-on Workshop series in Machine Learning\n",
    "### Session 4: More on Neural Networks\n",
    "#### Instructor: Aashita Kesarwani\n",
    "\n",
    "What is Deep Learning?\n",
    "\n",
    "Why the sudden growth in the applications of Deep Learning?   \n",
    "1. Data availability\n",
    "2. Computing power \n",
    "\n",
    "<img src=\"https://cdn-images-1.medium.com/max/1600/0*GTzatEUd4cICPVub.\" width=\"600\" height=\"850\" />\n",
    "\n",
    "\n",
    "\n",
    "#### Revision:\n",
    "\n",
    "Let us summarize what we have learned so far.\n",
    "\n",
    "Terminology:\n",
    "* Nodes\n",
    "* Input layer\n",
    "* Hidden layers\n",
    "* Output layer\n",
    "* Weights\n",
    "* Bias\n",
    "* Weighted sum $z_i$\n",
    "* Activation functions $g_i$\n",
    "* Sigmoid function (also known as logistic function)\n",
    "* Activations $a_i$\n",
    "* Cost function $J$\n",
    "* Logloss function (also known as cross-entropy function)\n",
    "* Gradient descent algorithm\n",
    "* Forward propagation\n",
    "* Backward propagation\n",
    "* Iterations\n",
    "* Epochs\n",
    "* Learning rate $\\alpha$ \n",
    "* Overfitting and underfitting\n",
    "* Multi-layer Perceptron (MLP)\n",
    "* Binary classification, positive and negative classes, decision boundary\n",
    "\n",
    "<img src=\"https://www.researchgate.net/profile/Mohamed_Zahran6/publication/303875065/figure/fig4/AS:371118507610123@1465492955561/A-hypothetical-example-of-Multilayer-Perceptron-Network.png\" width=\"400\" height=\"450\" />\n",
    "<p style=\"text-align: center;\"> Multi-layer Perceptron </p>\n",
    "\n",
    "\n",
    "The iterative training process in a nutshell: \n",
    "1. The weights are initialized.\n",
    "2. For each input vector, the activations are propagated forward thru the network to give the final output. This is **forward propagation**.\n",
    "3. This final output is compared with the target value to calculate the cost function.\n",
    "4. The above cost is propagated backwards using gradients. This is called **backpropagation**. \n",
    "5. The weights are updated using the gradients calculated above.\n",
    "\n",
    "\n",
    "Many common tasks for supervised machine learning can be formulated as:\n",
    "- Classification\n",
    "- Regression\n",
    "\n",
    "We have studied some binary classification algorithms in the previous session, for which the output variable $y$ is one of the classes - 0 or 1 for the input data $X$ and the function $f$ gives the decision boundary. We will explore regression algorithm in today's session. "
   ]
  },
  {
   "cell_type": "markdown",
   "metadata": {},
   "source": [
    "### Classification with more than two classes\n",
    "\n",
    "Suppose you want to use the texts written by 3 different authors to build a neural network that can predict which of those three authors have written an unclassified text.\n",
    "\n",
    "This is a classification problem with three classes. The neural networks we have seen so far only has a single node in the output layer that gives the probability for the positive class for binary (two-class) classification.\n",
    "\n",
    "For a multi-class (more than two classes) classification problem, the number of nodes in the output layer will be equal to the number of classes.\n",
    "\n",
    "<img align=\"left\" src=\"https://drive.google.com/uc?id=1J1JdmJqBOHSqBmEoj1WvYec2vatmIILa\"  >\n",
    "\n",
    "Each node will correspond to one of the classes and it will output the probability for that class.\n",
    "\n",
    "For multiclass classification, we use softmax function instead of sigmoid for output layer and cross-entropy loss instead of log-loss for cost function. "
   ]
  },
  {
   "cell_type": "markdown",
   "metadata": {},
   "source": [
    "### Cross-entropy loss\n",
    "\n",
    "For the binary classification, our label $y$ was simply taking binary integer values $0$ or $1$. For more than two classes, we use one-hot encoding. \n",
    "\n",
    "**One-hot encoding:**   \n",
    "For $k$ classes, we use the k-dimensional vectors to represent each class where only one entry is 1 and others zero. For illustrion, let $k=3$\n",
    "\n",
    "$$ y_1 = (1, 0, 0), \\quad \\quad \\quad y_2 = (0, 1, 0), \\quad \\quad \\quad y_3 = (0, 0, 1)$$\n",
    "\n",
    "\n",
    "The **cross-entropy loss** for the $i^{th}$ sample is given by\n",
    "\n",
    "$$ J^{(i)} = - \\sum_{j=1}^k y^{(i)}_j \\log(p^{(i)}_j)$$\n",
    "\n",
    "The **average cross-entropy loss** across all samples is given by\n",
    "\n",
    "$$ J = - \\frac{1}{m} \\sum_{i=1}^m \\sum_{j=1}^k y^{(i)}_j \\log(p^{(i)}_j)$$\n",
    "\n",
    "where $y^{(i)}$ is the one-hot encoded label for the $i^{th}$ sample and $p^{(i)}_j$ is the probability of the $j^{th}$ class for the $i^{th}$ sample.  Note that the inner summation will only contain a single non-zero term.\n",
    "\n",
    "\n",
    "Check that cross-entropy loss reduces to log loss for two classes."
   ]
  },
  {
   "cell_type": "markdown",
   "metadata": {},
   "source": [
    "### Softmax function\n",
    "For a multi-class (more than two classes) problem, the number of nodes in the output layer are equal to the number of classes and we want the probabilities for each class to add up to $1$. One of the simple way to ensure this would be to divide the output for each node by the total sum of the outputs of all the nodes. This is called standard normalization.\n",
    "\n",
    "$$ prob_i = \\frac{z_i}{z_1 + \\dots + z_n} $$\n",
    "\n",
    "The preferred method for multi-class  classification problems is to use softmax function in the output layer. It converts the outputs, say $z_i$'s, into probabilities adding to $1$, by performing standard normalization on the exponentials of the outputs.\n",
    "\n",
    "For each node, the softmax formula is\n",
    "\n",
    "$$softmax(z_i) = \\frac{e^{z_i}}{e^{z_1} + \\dots + e^{z_n}} $$\n",
    "\n",
    "$$ softmax([z_1, \\dots, z_k]) = \\left[\\frac{e^{z_1}}{e^{z_1}+ \\dots + e^{z_k}}, \\dots, \\frac{e^{z_k}}{e^{z_1}+ \\dots + e^{z_k}}\\right]$$\n",
    "\n",
    "The exponentials in the softmax cancels the log in the cross-entropy loss/cost function defined above, causing loss to be linear in $z_i$ and thus, speeding up the backpropagation step.\n",
    "\n",
    "The only assumption for softmax is that the examples cannot belong to two classes at the same time.\n",
    "\n",
    "What do you get for softmax when there are only two classes? Convince yourself that softmax is an extension of sigmoid function for multi-class."
   ]
  },
  {
   "cell_type": "markdown",
   "metadata": {},
   "source": [
    "### Regression:   \n",
    "- Fitting a curve to determine the impact of feature variables on the target variable.\n",
    "\n",
    "<img src=\"https://upload.wikimedia.org/wikipedia/commons/8/8a/Gaussian_kernel_regression.png\" width=\"300\" height=\"350\" />\n",
    "<p style=\"text-align: center;\"> Regression curve </p> "
   ]
  },
  {
   "cell_type": "markdown",
   "metadata": {},
   "source": [
    "Linear Regression: Fitting a ***line*** to determine the impact of feature variables on the target variable.\n",
    "\n",
    "<img align=\"center\" src=\"https://drive.google.com/uc?id=1DRuci3HIlZMBGfYkYSNpgUh_48gmjesl\" width=400 />\n",
    "\n",
    "Note that $X$ consists of independent variables, whereas $y$ target ouput and we want to approximate a function $f: X \\to y$\n",
    "\n",
    "For example, let $x$ be the square feet area of the house and $y$ be the selling price of the house.\n",
    "\n",
    "**Can we use a Multi-Layer Perceptron network to be used for regression? If yes, what will change as compared to the previous one used for binary classification?**\n",
    "\n",
    "<img align=\"center\" src=\"https://drive.google.com/uc?id=1wMVjwS3AsJCfkh-iuIq4MEycUV9yqKuD\" width=400 />"
   ]
  },
  {
   "cell_type": "markdown",
   "metadata": {},
   "source": [
    "* Which one of the above two lines is a better fit? Red or Green?\n",
    "* Can there be an even better fit? How do we find out?\n",
    "* What precisely are we looking for in the line that is the best fit?\n",
    "\n",
    "Answer: We are trying to minimize the error in predictions given by the line vs the actual target value.\n",
    "\n",
    "<img src=\"https://upload.wikimedia.org/wikipedia/commons/e/ed/Residuals_for_Linear_Regression_Fit.png\" width=\"300\" height=\"300\" />\n",
    "\n",
    "The simple linear regression (linear regression with one variable) is formulated as $ y_{pred} = w * x + b $.\n",
    "\n",
    "Finding the best fit line simply means ***finding the optimal values for $w$ and $b$***. For that, we need to quantify the cost function (also known as the error function or the loss function) that we can minimize. \n",
    "\n",
    "* How do we formulate the cost function?\n",
    "* Should we sum up the errors? If not, why?\n",
    "\n",
    "The simple linear regression model uses the mean-squared error (MSE) as the cost function. We square the errors and then take their average.\n",
    "\n",
    "$$ J = \\frac{1}{2 n} \\sum_{i=1}^n (y^{(i)} - y_{pred}^{(i)})^2 $$\n",
    "\n",
    "Alternatively, we can use Mean-absolute Error (MSE) as the cost function for regression:\n",
    "$$ J = \\frac{1}{n} \\sum_{i=1}^n |y^{(i)} - y_{pred}^{(i)}| $$\n",
    "\n",
    "\n",
    "The cost function is inherently a function of the slope and intercept. This is evident once we substitute $y_{pred}$ with the regression line.\n",
    "\n",
    "$$ J(w, b) = \\frac{1}{2 n} \\sum_{i=1}^n (y^{(i)} - (w * x^{(i)} + b) )^2 $$\n",
    "\n",
    "The [gradient descent algorithm](https://machinelearningmastery.com/gradient-descent-for-machine-learning/), introduced in the last session, can then be used to minimize the above cost function by updating the weights iteratively. \n",
    "\n",
    "Revision: How does the gradient descent algorithm work?\n",
    "* We start with some weights initially\n",
    "* Let the model make prediction $y_{pred}$ for a training example $x$\n",
    "* Compute the cost using the prediction $y_{pred}$ and the actual target $y$ \n",
    "* Compute the gradient of the cost and use it to update the weights\n",
    "* Repeat the above steps for another training example\n",
    "\n",
    "The weights are updated in the direction of the steepest descent of the cost function in each iteration. \n",
    "\n",
    "$$ w := w - \\alpha \\nabla J $$\n",
    "\n",
    "where $\\nabla J$ is the gradient of the cost function $J$ and $\\alpha$ is the learning rate that determines the size of steps that we take descending on the path of gradient.\n",
    "<img align=\"center\"  src=\"https://drive.google.com/uc?id=1K1Ki-VizvgPK88QKCQapedHItBQd8WHr\" width=\"450\" height=\"200\" />\n",
    "<p style=\"text-align: center;\"> Minimizing the cost function using gradient descent </p> \n",
    "\n",
    "To derive the formula for updating weights using gradient descent, we first take the partial derivative, \n",
    "$$ \\frac{\\partial J}{\\partial w} = - \\frac{1}{n} \\sum_{i=1}^n (y^{(i)} - y_{pred}^{(i)})   \\ x^{(i)} $$\n",
    "And substitute it in the above equation to get\n",
    "$$ w := w + \\alpha \\frac{1}{n} \\sum_{i=1}^n (y^{(i)} - y_{pred}^{(i)})   \\ x^{(i)} $$\n",
    "Similarly,\n",
    "$$ b := b + \\alpha \\frac{1}{n} \\sum_{i=1}^n (y^{(i)} - y_{pred}^{(i)})   $$\n",
    "\n",
    "To summarize, *we defined a cost function to quantify the error in predicting outputs and then we update the weights so as to minimize the cost in the fastest way with the help of gradient descent algorithm*."
   ]
  },
  {
   "cell_type": "markdown",
   "metadata": {},
   "source": [
    "**An illustrative example:**\n",
    "We use a pre-processed sample from the [Boston house prices dataset](https://scikit-learn.org/stable/datasets/index.html#boston-dataset) to predict the house prices based on the number of rooms.\n",
    "* **Input** $x$: Number of rooms\n",
    "* **Target** $y$: Median value of owner-occupied homes\n",
    "\n",
    "<img align=\"center\" src=\"https://drive.google.com/uc?id=1Klx9fs2cAeyHA860s-Nxw9iQVMWjV0cP\" width=400 />"
   ]
  },
  {
   "cell_type": "markdown",
   "metadata": {},
   "source": [
    "In the other notebook titled *Linear regression implementation using gradient descent*, the above gradient descent algorithm is implemented so that the regression line is being updated iteratively and the cost is declining with every iteration.\n",
    "<img align=\"center\" src=\"https://drive.google.com/uc?id=1MjPa-pioGFZ_Wpz38qzYbBlVpDdg1p0P\" width=700 />\n",
    "<img align=\"center\" src=\"https://drive.google.com/uc?id=1QWTVQxzgLL0oqYNcjz1j44JZGKGoS37S\" width=500 />\n",
    "\n",
    "**Exercise**: If you were to implement the above algorithm, what major functions would you need to implement? What would the code look like for the iterative process of weight updates?"
   ]
  },
  {
   "cell_type": "markdown",
   "metadata": {},
   "source": [
    "You can use [scikit-learn](https://scikit-learn.org/stable/) implementation of the linear regression as demonstrated below while working on problems. The linear regression is often good as a baseline model, and this implementation is fast and require very little code. \n",
    "\n",
    "First we import the function [LinearRegression](https://scikit-learn.org/stable/modules/generated/sklearn.linear_model.LinearRegression.html) and then initialize the regressor."
   ]
  },
  {
   "cell_type": "code",
   "execution_count": 10,
   "metadata": {},
   "outputs": [],
   "source": [
    "from sklearn.linear_model import LinearRegression\n",
    "lin_reg = LinearRegression()"
   ]
  },
  {
   "cell_type": "markdown",
   "metadata": {},
   "source": [
    "Then we train the regressor using the [`fit()`](https://scikit-learn.org/stable/modules/generated/sklearn.linear_model.LinearRegression.html#sklearn.linear_model.LinearRegression.fit) method on the data points."
   ]
  },
  {
   "cell_type": "code",
   "execution_count": 11,
   "metadata": {},
   "outputs": [
    {
     "data": {
      "text/plain": [
       "LinearRegression()"
      ]
     },
     "execution_count": 11,
     "metadata": {},
     "output_type": "execute_result"
    }
   ],
   "source": [
    "X = x.reshape(-1, 1)\n",
    "lin_reg.fit(X, y)"
   ]
  },
  {
   "cell_type": "markdown",
   "metadata": {},
   "source": [
    "Next, we plot the regression line using the functions written in the python file `linreg.py`. "
   ]
  },
  {
   "cell_type": "code",
   "execution_count": 16,
   "metadata": {},
   "outputs": [
    {
     "name": "stdout",
     "output_type": "stream",
     "text": [
      "Weight: 9.559377910614938\n",
      "Intercept -38.406936727358584\n",
      "Cost: 13.165639342962304\n"
     ]
    }
   ],
   "source": [
    "def cost(x, y, w, b, n):\n",
    "    J = 1/(2*n) * np.sum((y - (w*x + b))**2)\n",
    "    return J\n",
    "\n",
    "w = lin_reg.coef_[0]\n",
    "b = lin_reg.intercept_\n",
    "print(\"Weight:\", w)\n",
    "print(\"Intercept\", b)\n",
    "print(\"Cost:\", cost(x, y, w, b, n))"
   ]
  },
  {
   "cell_type": "code",
   "execution_count": 17,
   "metadata": {},
   "outputs": [
    {
     "data": {
      "image/png": "[encoded data removed]",
      "text/plain": [
       "<Figure size 432x288 with 1 Axes>"
      ]
     },
     "metadata": {
      "needs_background": "light"
     },
     "output_type": "display_data"
    }
   ],
   "source": [
    "# Plot the points\n",
    "plt.scatter(x, y)\n",
    "# Plot the regression line\n",
    "x_values = np.linspace(x.min(), x.max(), 100)\n",
    "y_prediction = w*x_values + b\n",
    "plt.plot(x_values, y_prediction);\n",
    "plt.xlabel(\"Average number of rooms\");\n",
    "plt.ylabel(\"Median value of homes in $1000’s\");\n",
    "plt.title(\"Fitting a linear regression model\");"
   ]
  },
  {
   "cell_type": "markdown",
   "metadata": {},
   "source": [
    "#### Multivariate Linear Regression\n",
    "The same formulation and understanding can be extended to linear regression with more than one variable, say $x_1, x_2, \\dots, x_n$, with the equation \n",
    "\n",
    "$$ y_{pred} = b + w_1 * x_1 + w_2 * x_2 + \\cdots + w_n * x_n$$ \n",
    "\n",
    "And we estimate the weights $w_1, w_2, \\dots, w_n$ corresponding to each variable as well as the intercept.\n",
    "\n",
    "&nbsp;\n",
    "\n",
    "&nbsp;"
   ]
  },
  {
   "cell_type": "markdown",
   "metadata": {},
   "source": [
    "Linear regression is the simplest example of a neural network with no hidden layers."
   ]
  },
  {
   "cell_type": "markdown",
   "metadata": {},
   "source": [
    "<img src=\"https://qph.fs.quoracdn.net/main-qimg-6f8c9994c154097ada51aa9e113e6515\" width=\"450\">"
   ]
  },
  {
   "cell_type": "markdown",
   "metadata": {},
   "source": [
    "Notes:\n",
    "* Increasing the weight for a variable means it is becoming more impactful in the prediction. \n",
    "* The weights for two variables cannot be compared straightway unless they are in same scale or are normalized to be in the same scale.\n",
    "\n",
    "#### Multivariate regression\n",
    "\n",
    "Linear regression might not work for many datasets, how can we use neural network for curve fitting in general? We can add hidden layers to add complexity/non-linearity to the function that is approximated by the network. Remember, you would not want to use sigmoid, unit step, etc. as activation function for the output layer for regression in general.\n",
    "\n",
    "<img src=\"https://upload.wikimedia.org/wikipedia/commons/8/8a/Gaussian_kernel_regression.png\" width=\"300\" height=\"350\" />\n",
    "<p style=\"text-align: center;\"> Regression curve </p> \n"
   ]
  },
  {
   "cell_type": "markdown",
   "metadata": {},
   "source": [
    "### Gradient descent optimizers\n",
    "\n",
    "* **Stochastic gradient descent**: A single training example is used in each iteration. The gradient (or the derivative of the cost function) is computed for that training example and it is used to update the weights.\n",
    "* **Batch gradient descent**: The entire training set is used in each iteration. The average of the gradients for all the training examples is computed and it is used to update the weights.\n",
    "\n",
    "Notes:\n",
    "* The stochastic converges much faster for larger datasets than the batch gradient descent since the weights are updated a lot more frequently.\n",
    "* For batch gradient descent, the cost function declines consistently with each iteration, whereas for the stochastic gradient descent, the cost fluctuates and declines overall after each epoch.\n",
    "* The stochastic gradient descent cannot make use of the vectorized operations unlike batch gradient descent.\n",
    "\n",
    "\n",
    "**Mini-batch gradient descent** is a mix of the above two and a good compromise. The training set is divided into batches and a single batch is used in each iteration.  The batch sizes of 32, 64 and 128 are often used.\n",
    "\n",
    "In practice, mini-batch is most commonly used, especially for the large datasets. \n",
    "\n",
    "<img src=\"https://miro.medium.com/max/1634/1*PV-fcUsNlD9EgTIc61h-Ig.png\" width=600 />\n"
   ]
  },
  {
   "cell_type": "markdown",
   "metadata": {},
   "source": [
    "### Tuning the learning rate \n",
    "\n",
    "The learning rate ($\\alpha$), that determines the size of the steps in the gradient descent algorithm, is an important hyperparameter that needs to be tuned. \n",
    "* If the learning rate is too low, then it takes too long to converge. \n",
    "* If the learning rate is too high, then it might oscillate and never reach the minima.\n",
    "\n",
    "$$ w := w - \\alpha \\frac{\\partial J}{\\partial w}$$\n",
    "\n",
    "<img src=\"https://miro.medium.com/max/1400/1*9zqj3nwIEU-L0-9pYitcRA.png\" width=600 />\n",
    "\n",
    "Our intuition tells us that the learning rate $\\alpha$ should be larger at the beginning when are weights are initialized randomly and are far from being optimal and then it can be reduced as the training process proceeds.This is called learning rate schedule or learning rate decay. The two common methods used are linear decay or exponential decay.\n",
    " \n",
    "\n",
    "<img src=\"https://cs231n.github.io/assets/nn3/learningrates.jpeg\" width=300 />\n",
    "\n",
    "\n",
    "The tuning of the learning rate has been an area of research and the adaptive gradient descent algorithms such as Adam, RMSprop, AdaGrad, etc. are developed that usually give better results."
   ]
  },
  {
   "cell_type": "markdown",
   "metadata": {},
   "source": [
    "### Tuning the number of epochs\n",
    "\n",
    "It is helpful to keep a check on both training and validation errors by printing them out at regular intervals and stop the training process at a suitable time to avoid both underfitting and overfitting to the training set.\n",
    "\n",
    "<img src=\"http://fouryears.eu/wp-content/uploads/2017/12/early_stopping.png\" width=400 />\n"
   ]
  },
  {
   "cell_type": "markdown",
   "metadata": {},
   "source": [
    "#### How to address overfitting?\n",
    "- Reduce the number of features \n",
    "    - Discard some features\n",
    "    - Dimensionality reduction techniques such PCA, LDA, etc.\n",
    "- Simplify the model (by tuning hyperparameters)\n",
    "- Reducing the number of epochs for training the network\n",
    "- Regularization, Dropout, etc.\n",
    "- Adding more training examples, if possible  \n",
    "<img src=\"https://i.stack.imgur.com/rpqa6.jpg\" width=\"450\" height=\"600\" />\n",
    "\n",
    "In a nutshell, \n",
    "* **To reduce overfitting, reduce complexity.**\n",
    "* **To reduce underfitting, increase complexity.**\n",
    "\n",
    "We will learn the above concepts in more detail in the next session."
   ]
  },
  {
   "cell_type": "markdown",
   "metadata": {},
   "source": [
    "#### Check out [Tensorflow Playground](https://playground.tensorflow.org/#activation=tanh&batchSize=10&dataset=circle&regDataset=reg-plane&learningRate=0.03&regularizationRate=0&noise=10&networkShape=4,2&seed=0.93390&showTestData=false&discretize=false&percTrainData=50&x=true&y=true&xTimesY=false&xSquared=false&ySquared=false&cosX=false&sinX=false&cosY=false&sinY=false&collectStats=false&problem=classification&initZero=false&hideText=false)!!"
   ]
  }
 ],
 "metadata": {
  "kernelspec": {
   "display_name": "Python 3 (ipykernel)",
   "language": "python",
   "name": "python3"
  },
  "language_info": {
   "codemirror_mode": {
    "name": "ipython",
    "version": 3
   },
   "file_extension": ".py",
   "mimetype": "text/x-python",
   "name": "python",
   "nbconvert_exporter": "python",
   "pygments_lexer": "ipython3",
   "version": "3.9.12"
  }
 },
 "nbformat": 4,
 "nbformat_minor": 2
}
